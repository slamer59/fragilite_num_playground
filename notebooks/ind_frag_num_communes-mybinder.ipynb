{
 "cells": [
  {
   "cell_type": "code",
   "execution_count": null,
   "metadata": {},
   "outputs": [],
   "source": [
    "import holoviews as hv\n",
    "import numpy as np\n",
    "from holoviews.operation.datashader import datashade\n",
    "import panel as pn\n",
    "import pandas as pd\n",
    "import panel as pn\n",
    "from holoviews.element.tiles import StamenTerrain\n",
    "\n",
    "import geoviews as gv\n",
    "import geoviews.feature as gf\n",
    "from holoviews import opts\n",
    "import xarray as xr\n",
    "import geopandas as gpd\n",
    "from shapely.geometry import Polygon\n",
    "import sys\n",
    "\n",
    "from tqdm import tqdm\n",
    "import requests\n",
    "\n",
    "\n",
    "from pathlib import Path\n",
    "gv.extension(\"bokeh\")\n"
   ]
  },
  {
   "cell_type": "markdown",
   "metadata": {},
   "source": [
    "# Geojson"
   ]
  },
  {
   "cell_type": "markdown",
   "metadata": {},
   "source": [
    "## Setup "
   ]
  },
  {
   "cell_type": "code",
   "execution_count": null,
   "metadata": {},
   "outputs": [],
   "source": [
    "external_data = Path('../data/external/')\n",
    "processed_data = Path('../data/processed/')\n",
    "raw_data = Path('../data/raw/')\n",
    "interim_data = Path('../data/interim/')\n",
    "\n",
    "opts.defaults(opts.Polygons(width=800, height=600, toolbar='above', colorbar=True, tools=['hover','tap'], aspect='equal'))"
   ]
  },
  {
   "cell_type": "markdown",
   "metadata": {},
   "source": [
    "## Lecture données\n",
    "https://towardsdatascience.com/interactive-geospatial-data-visualization-with-geoviews-in-python-7d5335c8efd1"
   ]
  },
  {
   "cell_type": "code",
   "execution_count": null,
   "metadata": {},
   "outputs": [],
   "source": [
    "france_geo_path = external_data / 'france-geojson-master'\n",
    "geojson_path = {geo.stem:geo for geo in france_geo_path.rglob('*.parquet')}\n",
    "\n",
    "regions = geojson_path['regions']\n",
    "dept = geojson_path['departements']\n",
    "cont_iris = external_data / 'geojson'/ 'contours-iris.geojson'\n",
    "\n",
    "if not cont_iris.is_file():\n",
    "    api_url = 'https://public.opendatasoft.com/explore/dataset/contours-iris/download/?format=geojson&timezone=Europe/Berlin&lang=fr'\n",
    "    response = requests.get(api_url, stream=True)\n",
    "    cont_iris.parent.mkdir(exist_ok=True)\n",
    "    with open(cont_iris, \"wb\") as handle:\n",
    "        for data in tqdm(response.iter_content()):\n",
    "            handle.write(data)\n",
    "\n",
    "\n",
    "reg_df = gpd.read_parquet(regions.with_suffix('.parquet'))\n",
    "dept_df = gpd.read_parquet(dept.with_suffix('.parquet'))\n",
    "cont_iris_df = gpd.read_parquet(cont_iris.with_suffix('.parquet'))\n",
    "\n",
    "# Cartes\n",
    "reg_map = gv.Polygons(reg_df, vdims=['nom'])\n",
    "dept_map = gv.Polygons(dept_df, vdims=['nom','code'])\n",
    "com_map = gv.Polygons(reg_df, vdims=['nom','code'])\n",
    "\n",
    "# Extraction de tableau (Indices)\n",
    "indice_frag_reformated = interim_data / 'Tableau_data_reformat.parquet'\n",
    "indice_frag = france_geo_path = external_data / 'extract_tableau' / 'Tableau_data.csv'\n",
    "if not indice_frag_reformated.is_file():\n",
    "    ifrag_df = pd.read_csv(indice_frag, sep=';', decimal=',')\n",
    "    ifrag_df.to_parquet(indice_frag.with_suffix('.parquet'))\n",
    "    ifrag_df_pivot = ifrag_df.pivot(index=['Code Iris','Nom Com','Nom Iris','Classement de SCORE GLOBAL region 1'], columns='Noms de mesures', values=['Valeurs de mesures'])\n",
    "    ifrag_df_pivot.columns = ifrag_df_pivot.columns.droplevel(0)\n",
    "    ifrag_df_pivot = ifrag_df_pivot.rename_axis(None, axis=1)\n",
    "    ifrag_df_pivot.reset_index(inplace=True)\n",
    "    ifrag_df_pivot.rename({\n",
    "        'Nom Com':'nom_com',\n",
    "        'Code Iris':'code_iris',\n",
    "        'Nom Iris':'nom_iris'}, axis=1, inplace=True\n",
    "    )\n",
    "    ifrag_df_pivot.to_parquet(indice_frag_reformated)\n",
    "else:\n",
    "    print(\"{} exist\".format(indice_frag_reformated.name))\n",
    "    ifrag_df = pd.read_parquet(indice_frag.with_suffix('.parquet'))\n",
    "    ifrag_df_pivot = pd.read_parquet(indice_frag_reformated)"
   ]
  },
  {
   "cell_type": "markdown",
   "metadata": {},
   "source": [
    "## Indice fragilité communes"
   ]
  },
  {
   "cell_type": "code",
   "execution_count": null,
   "metadata": {},
   "outputs": [],
   "source": [
    "ifrag_df_merged = pd.merge(cont_iris_df,ifrag_df_pivot, on=[\"code_iris\", \"nom_com\",\"nom_iris\"])\n",
    "indices_list = list(ifrag_df['Noms de mesures'].unique())\n",
    "vdims = ['code_iris','nom_com','nom_iris'] + indices_list"
   ]
  },
  {
   "cell_type": "markdown",
   "metadata": {},
   "source": [
    "# Avec style 😎 "
   ]
  },
  {
   "cell_type": "markdown",
   "metadata": {},
   "source": [
    "Exemple: https://panel.holoviz.org/gallery/demos/VTKSlicer.html"
   ]
  },
  {
   "cell_type": "code",
   "execution_count": null,
   "metadata": {},
   "outputs": [],
   "source": [
    "\n",
    "css = '''\n",
    ".panel-widget-box {\n",
    "  border-radius: 15px;\n",
    "  border: 1px black solid;\n",
    "\n",
    "}\n",
    "\n",
    ".bk-root .bk-input {\n",
    "\tdisplay: inline-block;\n",
    "\twidth: 100%;\n",
    "\tflex-grow: 1;\n",
    "\t-webkit-flex-grow: 1;\n",
    "\tmin-height: 31px;\n",
    "\tpadding: 0 12px;\n",
    "\tbackground-color: #fff;\n",
    "\tborder: 1px solid #ccc;\n",
    "\tborder-radius: 15px;\n",
    "}\n",
    "\n",
    "'''"
   ]
  },
  {
   "cell_type": "code",
   "execution_count": null,
   "metadata": {},
   "outputs": [],
   "source": [
    "indice = pn.widgets.Select(value=indices_list[0], options=indices_list, name='Indice de fragilité')\n",
    "nom_com = pn.widgets.AutocompleteInput(\n",
    "    name='Recherche', options=list(ifrag_df_merged.nom_com.unique()), value='Toulouse',\n",
    "    placeholder='Toulouse')\n",
    "\n",
    "\n",
    "@pn.depends(nom_com.param.value, indice.param.value)\n",
    "def indices_plot(nom_com, indice):\n",
    "    commune_plot = gv.Polygons(ifrag_df_merged[ifrag_df_merged.nom_com == nom_com], vdims=vdims)\n",
    "    tiles = StamenTerrain()\n",
    "    return tiles * commune_plot.opts(color=indice, width=600, height=600, fill_alpha=0.5) \n",
    "\n",
    "pn.extension(raw_css=[css])\n",
    "\n",
    "plot = pn.Row(pn.Column(nom_com, indice), indices_plot) #,css_classes=['panel-widget-box', \"bk-root\",'bk-input'])\n",
    "plot.servable()"
   ]
  }
 ],
 "metadata": {
  "kernelspec": {
   "display_name": "Python 3",
   "language": "python",
   "name": "python3"
  },
  "language_info": {
   "codemirror_mode": {
    "name": "ipython",
    "version": 3
   },
   "file_extension": ".py",
   "mimetype": "text/x-python",
   "name": "python",
   "nbconvert_exporter": "python",
   "pygments_lexer": "ipython3",
   "version": "3.8.5"
  }
 },
 "nbformat": 4,
 "nbformat_minor": 4
}
